{
 "cells": [
  {
   "cell_type": "markdown",
   "metadata": {},
   "source": [
    "Creacion de Modelo Random Forest Regressor manteniendo los 6 features mas importantes"
   ]
  },
  {
   "cell_type": "code",
   "execution_count": 14,
   "metadata": {},
   "outputs": [
    {
     "ename": "ImportError",
     "evalue": "cannot import name 'docstring' from 'matplotlib' (/home/mac/.local/lib/python3.10/site-packages/matplotlib/__init__.py)",
     "output_type": "error",
     "traceback": [
      "\u001b[0;31m---------------------------------------------------------------------------\u001b[0m",
      "\u001b[0;31mImportError\u001b[0m                               Traceback (most recent call last)",
      "\u001b[1;32m/home/mac/Desktop/desafio/ModeloRFR-MediaEstancia-Madrid (1).ipynb Cell 2\u001b[0m line \u001b[0;36m4\n\u001b[1;32m      <a href='vscode-notebook-cell:/home/mac/Desktop/desafio/ModeloRFR-MediaEstancia-Madrid%20%281%29.ipynb#W1sZmlsZQ%3D%3D?line=1'>2</a>\u001b[0m \u001b[39mimport\u001b[39;00m \u001b[39mpandas\u001b[39;00m \u001b[39mas\u001b[39;00m \u001b[39mpd\u001b[39;00m\n\u001b[1;32m      <a href='vscode-notebook-cell:/home/mac/Desktop/desafio/ModeloRFR-MediaEstancia-Madrid%20%281%29.ipynb#W1sZmlsZQ%3D%3D?line=2'>3</a>\u001b[0m \u001b[39mimport\u001b[39;00m \u001b[39mnumpy\u001b[39;00m \u001b[39mas\u001b[39;00m \u001b[39mnp\u001b[39;00m\n\u001b[0;32m----> <a href='vscode-notebook-cell:/home/mac/Desktop/desafio/ModeloRFR-MediaEstancia-Madrid%20%281%29.ipynb#W1sZmlsZQ%3D%3D?line=3'>4</a>\u001b[0m \u001b[39mimport\u001b[39;00m \u001b[39mmatplotlib\u001b[39;00m\u001b[39m.\u001b[39;00m\u001b[39mpyplot\u001b[39;00m \u001b[39mas\u001b[39;00m \u001b[39mplt\u001b[39;00m\n\u001b[1;32m      <a href='vscode-notebook-cell:/home/mac/Desktop/desafio/ModeloRFR-MediaEstancia-Madrid%20%281%29.ipynb#W1sZmlsZQ%3D%3D?line=4'>5</a>\u001b[0m \u001b[39mfrom\u001b[39;00m \u001b[39msklearn\u001b[39;00m \u001b[39mimport\u001b[39;00m preprocessing\n\u001b[1;32m      <a href='vscode-notebook-cell:/home/mac/Desktop/desafio/ModeloRFR-MediaEstancia-Madrid%20%281%29.ipynb#W1sZmlsZQ%3D%3D?line=6'>7</a>\u001b[0m \u001b[39m# Cargar el DataFrame\u001b[39;00m\n",
      "File \u001b[0;32m~/.local/lib/python3.10/site-packages/matplotlib/pyplot.py:66\u001b[0m\n\u001b[1;32m     63\u001b[0m \u001b[39mfrom\u001b[39;00m \u001b[39mmatplotlib\u001b[39;00m \u001b[39mimport\u001b[39;00m _docstring\n\u001b[1;32m     64\u001b[0m \u001b[39mfrom\u001b[39;00m \u001b[39mmatplotlib\u001b[39;00m\u001b[39m.\u001b[39;00m\u001b[39mbackend_bases\u001b[39;00m \u001b[39mimport\u001b[39;00m (\n\u001b[1;32m     65\u001b[0m     FigureCanvasBase, FigureManagerBase, MouseButton)\n\u001b[0;32m---> 66\u001b[0m \u001b[39mfrom\u001b[39;00m \u001b[39mmatplotlib\u001b[39;00m\u001b[39m.\u001b[39;00m\u001b[39mfigure\u001b[39;00m \u001b[39mimport\u001b[39;00m Figure, FigureBase, figaspect\n\u001b[1;32m     67\u001b[0m \u001b[39mfrom\u001b[39;00m \u001b[39mmatplotlib\u001b[39;00m\u001b[39m.\u001b[39;00m\u001b[39mgridspec\u001b[39;00m \u001b[39mimport\u001b[39;00m GridSpec, SubplotSpec\n\u001b[1;32m     68\u001b[0m \u001b[39mfrom\u001b[39;00m \u001b[39mmatplotlib\u001b[39;00m \u001b[39mimport\u001b[39;00m rcsetup, rcParamsDefault, rcParamsOrig\n",
      "File \u001b[0;32m~/.local/lib/python3.10/site-packages/matplotlib/figure.py:43\u001b[0m\n\u001b[1;32m     40\u001b[0m \u001b[39mimport\u001b[39;00m \u001b[39mnumpy\u001b[39;00m \u001b[39mas\u001b[39;00m \u001b[39mnp\u001b[39;00m\n\u001b[1;32m     42\u001b[0m \u001b[39mimport\u001b[39;00m \u001b[39mmatplotlib\u001b[39;00m \u001b[39mas\u001b[39;00m \u001b[39mmpl\u001b[39;00m\n\u001b[0;32m---> 43\u001b[0m \u001b[39mfrom\u001b[39;00m \u001b[39mmatplotlib\u001b[39;00m \u001b[39mimport\u001b[39;00m _blocking_input, backend_bases, _docstring, projections\n\u001b[1;32m     44\u001b[0m \u001b[39mfrom\u001b[39;00m \u001b[39mmatplotlib\u001b[39;00m\u001b[39m.\u001b[39;00m\u001b[39martist\u001b[39;00m \u001b[39mimport\u001b[39;00m (\n\u001b[1;32m     45\u001b[0m     Artist, allow_rasterization, _finalize_rasterization)\n\u001b[1;32m     46\u001b[0m \u001b[39mfrom\u001b[39;00m \u001b[39mmatplotlib\u001b[39;00m\u001b[39m.\u001b[39;00m\u001b[39mbackend_bases\u001b[39;00m \u001b[39mimport\u001b[39;00m (\n\u001b[1;32m     47\u001b[0m     DrawEvent, FigureCanvasBase, NonGuiException, MouseButton, _get_renderer)\n",
      "File \u001b[0;32m~/.local/lib/python3.10/site-packages/matplotlib/projections/__init__.py:58\u001b[0m\n\u001b[1;32m     56\u001b[0m \u001b[39mfrom\u001b[39;00m \u001b[39m.\u001b[39;00m\u001b[39mgeo\u001b[39;00m \u001b[39mimport\u001b[39;00m AitoffAxes, HammerAxes, LambertAxes, MollweideAxes\n\u001b[1;32m     57\u001b[0m \u001b[39mfrom\u001b[39;00m \u001b[39m.\u001b[39;00m\u001b[39mpolar\u001b[39;00m \u001b[39mimport\u001b[39;00m PolarAxes\n\u001b[0;32m---> 58\u001b[0m \u001b[39mfrom\u001b[39;00m \u001b[39mmpl_toolkits\u001b[39;00m\u001b[39m.\u001b[39;00m\u001b[39mmplot3d\u001b[39;00m \u001b[39mimport\u001b[39;00m Axes3D\n\u001b[1;32m     61\u001b[0m \u001b[39mclass\u001b[39;00m \u001b[39mProjectionRegistry\u001b[39;00m:\n\u001b[1;32m     62\u001b[0m \u001b[39m    \u001b[39m\u001b[39m\"\"\"A mapping of registered projection names to projection classes.\"\"\"\u001b[39;00m\n",
      "File \u001b[0;32m/usr/lib/python3/dist-packages/mpl_toolkits/mplot3d/__init__.py:1\u001b[0m\n\u001b[0;32m----> 1\u001b[0m \u001b[39mfrom\u001b[39;00m \u001b[39m.\u001b[39;00m\u001b[39maxes3d\u001b[39;00m \u001b[39mimport\u001b[39;00m Axes3D\n",
      "File \u001b[0;32m/usr/lib/python3/dist-packages/mpl_toolkits/mplot3d/axes3d.py:23\u001b[0m\n\u001b[1;32m     19\u001b[0m \u001b[39mimport\u001b[39;00m \u001b[39mtextwrap\u001b[39;00m\n\u001b[1;32m     21\u001b[0m \u001b[39mimport\u001b[39;00m \u001b[39mnumpy\u001b[39;00m \u001b[39mas\u001b[39;00m \u001b[39mnp\u001b[39;00m\n\u001b[0;32m---> 23\u001b[0m \u001b[39mfrom\u001b[39;00m \u001b[39mmatplotlib\u001b[39;00m \u001b[39mimport\u001b[39;00m _api, cbook, docstring, _preprocess_data\n\u001b[1;32m     24\u001b[0m \u001b[39mimport\u001b[39;00m \u001b[39mmatplotlib\u001b[39;00m\u001b[39m.\u001b[39;00m\u001b[39martist\u001b[39;00m \u001b[39mas\u001b[39;00m \u001b[39mmartist\u001b[39;00m\n\u001b[1;32m     25\u001b[0m \u001b[39mimport\u001b[39;00m \u001b[39mmatplotlib\u001b[39;00m\u001b[39m.\u001b[39;00m\u001b[39maxes\u001b[39;00m \u001b[39mas\u001b[39;00m \u001b[39mmaxes\u001b[39;00m\n",
      "\u001b[0;31mImportError\u001b[0m: cannot import name 'docstring' from 'matplotlib' (/home/mac/.local/lib/python3.10/site-packages/matplotlib/__init__.py)"
     ]
    }
   ],
   "source": [
    "# Importar Librerias\n",
    "import pandas as pd\n",
    "import numpy as np\n",
    "import matplotlib.pyplot as plt\n",
    "from sklearn import preprocessing\n",
    "\n",
    "# Cargar el DataFrame\n",
    "df = pd.read_csv(\"dataset-rentas-madrid-oct2023.csv\")\n",
    "df.head()\n"
   ]
  },
  {
   "cell_type": "code",
   "execution_count": null,
   "metadata": {},
   "outputs": [
    {
     "name": "stdout",
     "output_type": "stream",
     "text": [
      "Name: scikit-learn\n",
      "Version: 1.1.3\n",
      "Summary: A set of python modules for machine learning and data mining\n",
      "Home-page: http://scikit-learn.org\n",
      "Author: \n",
      "Author-email: \n",
      "License: new BSD\n",
      "Location: /Users/guillermobogran/Library/Python/3.11/lib/python/site-packages\n",
      "Requires: joblib, numpy, scipy, threadpoolctl\n",
      "Required-by: \n",
      "Note: you may need to restart the kernel to use updated packages.\n"
     ]
    }
   ],
   "source": [
    "pip show scikit-learn"
   ]
  },
  {
   "cell_type": "code",
   "execution_count": null,
   "metadata": {},
   "outputs": [
    {
     "name": "stdout",
     "output_type": "stream",
     "text": [
      "Name: Flask\n",
      "Version: 2.3.3\n",
      "Summary: A simple framework for building complex web applications.\n",
      "Home-page: \n",
      "Author: \n",
      "Author-email: \n",
      "License: \n",
      "Location: /Library/Frameworks/Python.framework/Versions/3.11/lib/python3.11/site-packages\n",
      "Requires: blinker, click, itsdangerous, Jinja2, Werkzeug\n",
      "Required-by: Flask-SQLAlchemy\n",
      "Note: you may need to restart the kernel to use updated packages.\n"
     ]
    }
   ],
   "source": [
    "pip show flask"
   ]
  },
  {
   "cell_type": "code",
   "execution_count": null,
   "metadata": {},
   "outputs": [],
   "source": [
    "# Drop las features no relevantes en este modelo (Se analizó previamente que estas no eran relevantes para este modelo)\n",
    "df = df.drop( ['Air Conditioning','Built-in Wardrobes', 'Elevator', 'Heating', 'Garage', 'Terrace', 'Balcony', 'Garden', 'Pool'], axis=1)"
   ]
  },
  {
   "cell_type": "code",
   "execution_count": null,
   "metadata": {},
   "outputs": [
    {
     "data": {
      "text/plain": [
       "Index(['Tipo', 'Distrito', 'Barrio', 'Habitaciones', 'Banos', 'Area',\n",
       "       'Furnished', 'Precio'],\n",
       "      dtype='object')"
      ]
     },
     "execution_count": 14,
     "metadata": {},
     "output_type": "execute_result"
    }
   ],
   "source": [
    "# Mostrar las columnas\n",
    "df.columns"
   ]
  },
  {
   "cell_type": "code",
   "execution_count": null,
   "metadata": {},
   "outputs": [
    {
     "data": {
      "text/html": [
       "<div>\n",
       "<style scoped>\n",
       "    .dataframe tbody tr th:only-of-type {\n",
       "        vertical-align: middle;\n",
       "    }\n",
       "\n",
       "    .dataframe tbody tr th {\n",
       "        vertical-align: top;\n",
       "    }\n",
       "\n",
       "    .dataframe thead th {\n",
       "        text-align: right;\n",
       "    }\n",
       "</style>\n",
       "<table border=\"1\" class=\"dataframe\">\n",
       "  <thead>\n",
       "    <tr style=\"text-align: right;\">\n",
       "      <th></th>\n",
       "      <th>Tipo</th>\n",
       "      <th>Distrito</th>\n",
       "      <th>Barrio</th>\n",
       "      <th>Habitaciones</th>\n",
       "      <th>Banos</th>\n",
       "      <th>Area</th>\n",
       "      <th>Furnished</th>\n",
       "      <th>Precio</th>\n",
       "    </tr>\n",
       "  </thead>\n",
       "  <tbody>\n",
       "    <tr>\n",
       "      <th>0</th>\n",
       "      <td>Piso</td>\n",
       "      <td>Arganzuela</td>\n",
       "      <td>Palos de Moguer</td>\n",
       "      <td>2</td>\n",
       "      <td>2</td>\n",
       "      <td>70</td>\n",
       "      <td>1</td>\n",
       "      <td>3500</td>\n",
       "    </tr>\n",
       "    <tr>\n",
       "      <th>1</th>\n",
       "      <td>Piso</td>\n",
       "      <td>Arganzuela</td>\n",
       "      <td>Palos de Moguer</td>\n",
       "      <td>1</td>\n",
       "      <td>1</td>\n",
       "      <td>60</td>\n",
       "      <td>1</td>\n",
       "      <td>1475</td>\n",
       "    </tr>\n",
       "    <tr>\n",
       "      <th>2</th>\n",
       "      <td>Piso</td>\n",
       "      <td>Arganzuela</td>\n",
       "      <td>Legazpi</td>\n",
       "      <td>3</td>\n",
       "      <td>2</td>\n",
       "      <td>110</td>\n",
       "      <td>1</td>\n",
       "      <td>1850</td>\n",
       "    </tr>\n",
       "    <tr>\n",
       "      <th>3</th>\n",
       "      <td>Piso</td>\n",
       "      <td>Arganzuela</td>\n",
       "      <td>Chopera</td>\n",
       "      <td>2</td>\n",
       "      <td>1</td>\n",
       "      <td>80</td>\n",
       "      <td>1</td>\n",
       "      <td>1250</td>\n",
       "    </tr>\n",
       "    <tr>\n",
       "      <th>4</th>\n",
       "      <td>Piso</td>\n",
       "      <td>Arganzuela</td>\n",
       "      <td>Legazpi</td>\n",
       "      <td>1</td>\n",
       "      <td>1</td>\n",
       "      <td>70</td>\n",
       "      <td>1</td>\n",
       "      <td>1290</td>\n",
       "    </tr>\n",
       "    <tr>\n",
       "      <th>5</th>\n",
       "      <td>Piso</td>\n",
       "      <td>Arganzuela</td>\n",
       "      <td>Legazpi</td>\n",
       "      <td>2</td>\n",
       "      <td>2</td>\n",
       "      <td>77</td>\n",
       "      <td>1</td>\n",
       "      <td>1300</td>\n",
       "    </tr>\n",
       "    <tr>\n",
       "      <th>6</th>\n",
       "      <td>Piso</td>\n",
       "      <td>Arganzuela</td>\n",
       "      <td>Palos de Moguer</td>\n",
       "      <td>1</td>\n",
       "      <td>1</td>\n",
       "      <td>28</td>\n",
       "      <td>1</td>\n",
       "      <td>1400</td>\n",
       "    </tr>\n",
       "    <tr>\n",
       "      <th>7</th>\n",
       "      <td>Piso</td>\n",
       "      <td>Arganzuela</td>\n",
       "      <td>Palos de Moguer</td>\n",
       "      <td>3</td>\n",
       "      <td>2</td>\n",
       "      <td>107</td>\n",
       "      <td>1</td>\n",
       "      <td>3000</td>\n",
       "    </tr>\n",
       "    <tr>\n",
       "      <th>8</th>\n",
       "      <td>Piso</td>\n",
       "      <td>Arganzuela</td>\n",
       "      <td>Legazpi</td>\n",
       "      <td>1</td>\n",
       "      <td>1</td>\n",
       "      <td>74</td>\n",
       "      <td>0</td>\n",
       "      <td>1200</td>\n",
       "    </tr>\n",
       "    <tr>\n",
       "      <th>9</th>\n",
       "      <td>Ático</td>\n",
       "      <td>Arganzuela</td>\n",
       "      <td>Palos de Moguer</td>\n",
       "      <td>2</td>\n",
       "      <td>2</td>\n",
       "      <td>86</td>\n",
       "      <td>1</td>\n",
       "      <td>2000</td>\n",
       "    </tr>\n",
       "  </tbody>\n",
       "</table>\n",
       "</div>"
      ],
      "text/plain": [
       "    Tipo    Distrito           Barrio  Habitaciones  Banos  Area  Furnished  \\\n",
       "0   Piso  Arganzuela  Palos de Moguer             2      2    70          1   \n",
       "1   Piso  Arganzuela  Palos de Moguer             1      1    60          1   \n",
       "2   Piso  Arganzuela          Legazpi             3      2   110          1   \n",
       "3   Piso  Arganzuela          Chopera             2      1    80          1   \n",
       "4   Piso  Arganzuela          Legazpi             1      1    70          1   \n",
       "5   Piso  Arganzuela          Legazpi             2      2    77          1   \n",
       "6   Piso  Arganzuela  Palos de Moguer             1      1    28          1   \n",
       "7   Piso  Arganzuela  Palos de Moguer             3      2   107          1   \n",
       "8   Piso  Arganzuela          Legazpi             1      1    74          0   \n",
       "9  Ático  Arganzuela  Palos de Moguer             2      2    86          1   \n",
       "\n",
       "   Precio  \n",
       "0    3500  \n",
       "1    1475  \n",
       "2    1850  \n",
       "3    1250  \n",
       "4    1290  \n",
       "5    1300  \n",
       "6    1400  \n",
       "7    3000  \n",
       "8    1200  \n",
       "9    2000  "
      ]
     },
     "execution_count": 15,
     "metadata": {},
     "output_type": "execute_result"
    }
   ],
   "source": [
    "df.head(10)"
   ]
  },
  {
   "cell_type": "code",
   "execution_count": null,
   "metadata": {},
   "outputs": [
    {
     "data": {
      "text/html": [
       "<style>#sk-container-id-5 {color: black;background-color: white;}#sk-container-id-5 pre{padding: 0;}#sk-container-id-5 div.sk-toggleable {background-color: white;}#sk-container-id-5 label.sk-toggleable__label {cursor: pointer;display: block;width: 100%;margin-bottom: 0;padding: 0.3em;box-sizing: border-box;text-align: center;}#sk-container-id-5 label.sk-toggleable__label-arrow:before {content: \"▸\";float: left;margin-right: 0.25em;color: #696969;}#sk-container-id-5 label.sk-toggleable__label-arrow:hover:before {color: black;}#sk-container-id-5 div.sk-estimator:hover label.sk-toggleable__label-arrow:before {color: black;}#sk-container-id-5 div.sk-toggleable__content {max-height: 0;max-width: 0;overflow: hidden;text-align: left;background-color: #f0f8ff;}#sk-container-id-5 div.sk-toggleable__content pre {margin: 0.2em;color: black;border-radius: 0.25em;background-color: #f0f8ff;}#sk-container-id-5 input.sk-toggleable__control:checked~div.sk-toggleable__content {max-height: 200px;max-width: 100%;overflow: auto;}#sk-container-id-5 input.sk-toggleable__control:checked~label.sk-toggleable__label-arrow:before {content: \"▾\";}#sk-container-id-5 div.sk-estimator input.sk-toggleable__control:checked~label.sk-toggleable__label {background-color: #d4ebff;}#sk-container-id-5 div.sk-label input.sk-toggleable__control:checked~label.sk-toggleable__label {background-color: #d4ebff;}#sk-container-id-5 input.sk-hidden--visually {border: 0;clip: rect(1px 1px 1px 1px);clip: rect(1px, 1px, 1px, 1px);height: 1px;margin: -1px;overflow: hidden;padding: 0;position: absolute;width: 1px;}#sk-container-id-5 div.sk-estimator {font-family: monospace;background-color: #f0f8ff;border: 1px dotted black;border-radius: 0.25em;box-sizing: border-box;margin-bottom: 0.5em;}#sk-container-id-5 div.sk-estimator:hover {background-color: #d4ebff;}#sk-container-id-5 div.sk-parallel-item::after {content: \"\";width: 100%;border-bottom: 1px solid gray;flex-grow: 1;}#sk-container-id-5 div.sk-label:hover label.sk-toggleable__label {background-color: #d4ebff;}#sk-container-id-5 div.sk-serial::before {content: \"\";position: absolute;border-left: 1px solid gray;box-sizing: border-box;top: 0;bottom: 0;left: 50%;z-index: 0;}#sk-container-id-5 div.sk-serial {display: flex;flex-direction: column;align-items: center;background-color: white;padding-right: 0.2em;padding-left: 0.2em;position: relative;}#sk-container-id-5 div.sk-item {position: relative;z-index: 1;}#sk-container-id-5 div.sk-parallel {display: flex;align-items: stretch;justify-content: center;background-color: white;position: relative;}#sk-container-id-5 div.sk-item::before, #sk-container-id-5 div.sk-parallel-item::before {content: \"\";position: absolute;border-left: 1px solid gray;box-sizing: border-box;top: 0;bottom: 0;left: 50%;z-index: -1;}#sk-container-id-5 div.sk-parallel-item {display: flex;flex-direction: column;z-index: 1;position: relative;background-color: white;}#sk-container-id-5 div.sk-parallel-item:first-child::after {align-self: flex-end;width: 50%;}#sk-container-id-5 div.sk-parallel-item:last-child::after {align-self: flex-start;width: 50%;}#sk-container-id-5 div.sk-parallel-item:only-child::after {width: 0;}#sk-container-id-5 div.sk-dashed-wrapped {border: 1px dashed gray;margin: 0 0.4em 0.5em 0.4em;box-sizing: border-box;padding-bottom: 0.4em;background-color: white;}#sk-container-id-5 div.sk-label label {font-family: monospace;font-weight: bold;display: inline-block;line-height: 1.2em;}#sk-container-id-5 div.sk-label-container {text-align: center;}#sk-container-id-5 div.sk-container {/* jupyter's `normalize.less` sets `[hidden] { display: none; }` but bootstrap.min.css set `[hidden] { display: none !important; }` so we also need the `!important` here to be able to override the default hidden behavior on the sphinx rendered scikit-learn.org. See: https://github.com/scikit-learn/scikit-learn/issues/21755 */display: inline-block !important;position: relative;}#sk-container-id-5 div.sk-text-repr-fallback {display: none;}</style><div id=\"sk-container-id-5\" class=\"sk-top-container\"><div class=\"sk-text-repr-fallback\"><pre>RandomForestRegressor(max_features=2, random_state=42)</pre><b>In a Jupyter environment, please rerun this cell to show the HTML representation or trust the notebook. <br />On GitHub, the HTML representation is unable to render, please try loading this page with nbviewer.org.</b></div><div class=\"sk-container\" hidden><div class=\"sk-item\"><div class=\"sk-estimator sk-toggleable\"><input class=\"sk-toggleable__control sk-hidden--visually\" id=\"sk-estimator-id-7\" type=\"checkbox\" checked><label for=\"sk-estimator-id-7\" class=\"sk-toggleable__label sk-toggleable__label-arrow\">RandomForestRegressor</label><div class=\"sk-toggleable__content\"><pre>RandomForestRegressor(max_features=2, random_state=42)</pre></div></div></div></div></div>"
      ],
      "text/plain": [
       "RandomForestRegressor(max_features=2, random_state=42)"
      ]
     },
     "execution_count": 30,
     "metadata": {},
     "output_type": "execute_result"
    }
   ],
   "source": [
    "from sklearn.preprocessing import LabelEncoder\n",
    "from sklearn.model_selection import train_test_split\n",
    "from sklearn.ensemble import RandomForestRegressor\n",
    "\n",
    "\n",
    "# Encoding las columnas categoricas\n",
    "label_encoders = {}\n",
    "for column in ['Tipo', 'Distrito', 'Barrio']:\n",
    "    le = LabelEncoder()\n",
    "    df[column] = le.fit_transform(df[column])\n",
    "    label_encoders[column] = le\n",
    "\n",
    "# Splitting los datos en train y test sets\n",
    "X = df.drop( ['Precio'], axis=1)\n",
    "y = df['Precio']\n",
    "X_train, X_test, y_train, y_test = train_test_split(X, y, test_size=0.2, random_state=42)\n",
    "\n",
    "# Train el Random Forest regressor\n",
    "rf_regressor = RandomForestRegressor(n_estimators=100, max_features=2, random_state=42)\n",
    "rf_regressor.fit(X_train, y_train)"
   ]
  },
  {
   "cell_type": "code",
   "execution_count": null,
   "metadata": {},
   "outputs": [
    {
     "name": "stdout",
     "output_type": "stream",
     "text": [
      "RandomForest Regressor has score in train of 0.962\n",
      "RandomForest Regressor has score in test of 0.807\n"
     ]
    }
   ],
   "source": [
    "# Evaluar el modelo en el set de train\n",
    "rf_score_train = rf_regressor.score(X_train, y_train)\n",
    "\n",
    "# Evaluar el modelo en el set de test\n",
    "rf_score_test = rf_regressor.score(X_test, y_test)\n",
    "\n",
    "print(\"RandomForest Regressor has score in train of {:.3f}\".format(rf_score_train))\n",
    "print(\"RandomForest Regressor has score in test of {:.3f}\".format(rf_score_test))\n"
   ]
  },
  {
   "cell_type": "code",
   "execution_count": null,
   "metadata": {},
   "outputs": [
    {
     "name": "stdout",
     "output_type": "stream",
     "text": [
      "RandomForest Regressor has an r2 score in test of 0.807\n",
      "RandomForest Regressor has an MSE score in test of 583534.992\n"
     ]
    }
   ],
   "source": [
    "import sklearn.metrics as metrics\n",
    "from sklearn.metrics import mean_squared_error\n",
    "\n",
    "\n",
    "# Predict using Test Data\n",
    "rf_regressor_prediction = rf_regressor.predict(X_test)\n",
    "\n",
    "# Validar Metricas r2 y mSE\n",
    "rf_regressor_r2 = metrics.r2_score(y_test, rf_regressor_prediction)\n",
    "rf_regressor_mse = metrics.mean_squared_error(y_test, rf_regressor_prediction)\n",
    "\n",
    "print(\"RandomForest Regressor has an r2 score in test of {:.3f}\".format(rf_regressor_r2))\n",
    "print(\"RandomForest Regressor has an MSE score in test of {:.3f}\".format(rf_regressor_mse))\n"
   ]
  },
  {
   "cell_type": "code",
   "execution_count": null,
   "metadata": {},
   "outputs": [],
   "source": [
    "import pickle\n",
    "\n",
    "# Guardamos modelo con pickle\n",
    "RF_modelo_entrenado = {\n",
    "    \"rf_regressor\":rf_regressor\n",
    "}\n",
    "\n",
    "with open(\"RF_modelo_entrenado.pkl\", 'wb') as file:\n",
    "    pickle.dump(RF_modelo_entrenado, file)"
   ]
  },
  {
   "cell_type": "code",
   "execution_count": null,
   "metadata": {},
   "outputs": [],
   "source": [
    "label_to_encoded_mappings = {}\n",
    "encoded_to_label_mappings = {}\n",
    "\n",
    "for column, encoder in label_encoders.items():\n",
    "    label_to_encoded = {label: encoder.transform([label])[0] for label in encoder.classes_}\n",
    "    encoded_to_label = {encoder.transform([label])[0]: label for label in encoder.classes_}\n",
    "    \n",
    "    label_to_encoded_mappings[column] = label_to_encoded\n",
    "    encoded_to_label_mappings[column] = encoded_to_label"
   ]
  },
  {
   "cell_type": "code",
   "execution_count": null,
   "metadata": {},
   "outputs": [
    {
     "name": "stdout",
     "output_type": "stream",
     "text": [
      "{'Apartamento': 0, 'Dúplex': 1, 'Piso': 2, 'Ático': 3}\n",
      "{'Abrantes': 0, 'Acacias': 1, 'Adelfas': 2, 'Alameda de Osuna': 3, 'Almagro': 4, 'Almenara': 5, 'Almendrales': 6, 'Aluche': 7, 'Ambroz': 8, 'Amposta': 9, 'Apóstol Santiago': 10, 'Arapiles': 11, 'Aravaca': 12, 'Arcos': 13, 'Argüelles': 14, 'Atalaya': 15, 'Atocha': 16, 'Bellas Vistas': 17, 'Bernabéu - Hispanoamérica': 18, 'Berruguete': 19, 'Buenavista': 20, 'Butarque': 21, 'Campamento': 22, 'Canillas': 23, 'Canillejas': 24, 'Casa de Campo': 25, 'Casco Histórico de Barajas': 26, 'Casco Histórico de Vallecas': 27, 'Casco histórico de Vicálvaro': 28, 'Castellana': 29, 'Castilla': 30, 'Castillejos': 31, 'Centro': 32, 'Chamartín': 33, 'Chamberí': 34, 'Chopera': 35, 'Ciudad Jardín': 36, 'Ciudad Universitaria': 37, 'Colina': 38, 'Comillas': 39, 'Concepción': 40, 'Corralejos - Campo de las Naciones': 41, 'Cortes - Huertas': 42, 'Costillares': 43, 'Cuatro Caminos': 44, 'Cuatro vientos': 45, 'Delicias': 46, 'El Cañaveral - Los Berrocales': 47, 'El Pardo': 48, 'El Viso': 49, 'Embajadores - Lavapiés': 50, 'Ensanche de Vallecas - Valdecarros': 51, 'Entrevías': 52, 'Estrella': 53, 'Fontarrón': 54, 'Fuente del Berro': 55, 'Fuentelarreina': 56, 'Gaztambide': 57, 'Goya': 58, 'Guindalera': 59, 'Hellín': 60, 'Horcajo': 61, 'Ibiza': 62, 'Imperial': 63, 'Jerónimos': 64, 'Justicia - Chueca': 65, 'La Florida - El Plantío': 66, 'La Paz': 67, 'Las Tablas': 68, 'Legazpi': 69, 'Lista': 70, 'Los Cármenes': 71, 'Los Rosales': 72, 'Los Ángeles': 73, 'Lucero': 74, 'Marroquina': 75, 'Media Legua': 76, 'Mirasierra': 77, 'Montecarmelo': 78, 'Moscardó': 79, 'Niño Jesús': 80, 'Nueva España': 81, 'Nuevos Ministerios - Ríos Rosas': 82, 'Numancia': 83, 'Opañel': 84, 'Orcasitas': 85, 'Orcasur': 86, 'Pacífico': 87, 'Palacio': 88, 'Palomas': 89, 'Palomeras bajas': 90, 'Palomeras sureste': 91, 'Palos de Moguer': 92, 'Pau de Carabanchel': 93, 'Peñagrande': 94, 'Pilar': 95, 'Pinar del Rey': 96, 'Piovera - Conde Orgaz': 97, 'Portazgo': 98, 'Pradolongo': 99, 'Prosperidad': 100, 'Pueblo Nuevo': 101, 'Puerta bonita': 102, 'Puerta del Ángel': 103, 'Quintana': 104, 'Recoletos': 105, 'Rejas': 106, 'Rosas - Musas': 107, 'Salvador': 108, 'San Andrés': 109, 'San Cristóbal': 110, 'San Diego': 111, 'San Fermín': 112, 'San Isidro': 113, 'San Juan Bautista': 114, 'San Pascual': 115, 'Sanchinarro': 116, 'Santa Eugenia': 117, 'Simancas': 118, 'Sol': 119, 'Tetuán': 120, 'Timón': 121, 'Trafalgar': 122, 'Tres Olivos - Valverde': 123, 'Universidad - Malasaña': 124, 'Valdeacederas': 125, 'Valdebebas - Valdefuentes': 126, 'Valdebernardo - Valderribas': 127, 'Valdemarín': 128, 'Valdezarza': 129, 'Vallehermoso': 130, 'Ventas': 131, 'Vicálvaro': 132, 'Vinateros': 133, 'Virgen del Cortijo - Manoteras': 134, 'Vista Alegre': 135, 'Zofio': 136, 'Águilas': 137}\n",
      "{'Arganzuela': 0, 'Barajas': 1, 'Carabanchel': 2, 'Centro': 3, 'Chamartín': 4, 'Chamberí': 5, 'Ciudad Lineal': 6, 'Fuencarral': 7, 'Hortaleza': 8, 'Latina': 9, 'Moncloa': 10, 'Moratalaz': 11, 'Puente de Vallecas': 12, 'Retiro': 13, 'Salamanca': 14, 'San Blas': 15, 'Tetuán': 16, 'Usera': 17, 'Vicálvaro': 18, 'Villa de Vallecas': 19, 'Villaverde': 20}\n"
     ]
    }
   ],
   "source": [
    "print(label_to_encoded_mappings['Tipo'])\n",
    "print(label_to_encoded_mappings['Barrio'])\n",
    "print(label_to_encoded_mappings['Distrito'])\n"
   ]
  },
  {
   "cell_type": "code",
   "execution_count": null,
   "metadata": {},
   "outputs": [
    {
     "data": {
      "text/plain": [
       "{'Tipo': {0: 'Apartamento', 1: 'Dúplex', 2: 'Piso', 3: 'Ático'},\n",
       " 'Distrito': {0: 'Arganzuela',\n",
       "  1: 'Barajas',\n",
       "  2: 'Carabanchel',\n",
       "  3: 'Centro',\n",
       "  4: 'Chamartín',\n",
       "  5: 'Chamberí',\n",
       "  6: 'Ciudad Lineal',\n",
       "  7: 'Fuencarral',\n",
       "  8: 'Hortaleza',\n",
       "  9: 'Latina',\n",
       "  10: 'Moncloa',\n",
       "  11: 'Moratalaz',\n",
       "  12: 'Puente de Vallecas',\n",
       "  13: 'Retiro',\n",
       "  14: 'Salamanca',\n",
       "  15: 'San Blas',\n",
       "  16: 'Tetuán',\n",
       "  17: 'Usera',\n",
       "  18: 'Vicálvaro',\n",
       "  19: 'Villa de Vallecas',\n",
       "  20: 'Villaverde'},\n",
       " 'Barrio': {0: 'Abrantes',\n",
       "  1: 'Acacias',\n",
       "  2: 'Adelfas',\n",
       "  3: 'Alameda de Osuna',\n",
       "  4: 'Almagro',\n",
       "  5: 'Almenara',\n",
       "  6: 'Almendrales',\n",
       "  7: 'Aluche',\n",
       "  8: 'Ambroz',\n",
       "  9: 'Amposta',\n",
       "  10: 'Apóstol Santiago',\n",
       "  11: 'Arapiles',\n",
       "  12: 'Aravaca',\n",
       "  13: 'Arcos',\n",
       "  14: 'Argüelles',\n",
       "  15: 'Atalaya',\n",
       "  16: 'Atocha',\n",
       "  17: 'Bellas Vistas',\n",
       "  18: 'Bernabéu - Hispanoamérica',\n",
       "  19: 'Berruguete',\n",
       "  20: 'Buenavista',\n",
       "  21: 'Butarque',\n",
       "  22: 'Campamento',\n",
       "  23: 'Canillas',\n",
       "  24: 'Canillejas',\n",
       "  25: 'Casa de Campo',\n",
       "  26: 'Casco Histórico de Barajas',\n",
       "  27: 'Casco Histórico de Vallecas',\n",
       "  28: 'Casco histórico de Vicálvaro',\n",
       "  29: 'Castellana',\n",
       "  30: 'Castilla',\n",
       "  31: 'Castillejos',\n",
       "  32: 'Centro',\n",
       "  33: 'Chamartín',\n",
       "  34: 'Chamberí',\n",
       "  35: 'Chopera',\n",
       "  36: 'Ciudad Jardín',\n",
       "  37: 'Ciudad Universitaria',\n",
       "  38: 'Colina',\n",
       "  39: 'Comillas',\n",
       "  40: 'Concepción',\n",
       "  41: 'Corralejos - Campo de las Naciones',\n",
       "  42: 'Cortes - Huertas',\n",
       "  43: 'Costillares',\n",
       "  44: 'Cuatro Caminos',\n",
       "  45: 'Cuatro vientos',\n",
       "  46: 'Delicias',\n",
       "  47: 'El Cañaveral - Los Berrocales',\n",
       "  48: 'El Pardo',\n",
       "  49: 'El Viso',\n",
       "  50: 'Embajadores - Lavapiés',\n",
       "  51: 'Ensanche de Vallecas - Valdecarros',\n",
       "  52: 'Entrevías',\n",
       "  53: 'Estrella',\n",
       "  54: 'Fontarrón',\n",
       "  55: 'Fuente del Berro',\n",
       "  56: 'Fuentelarreina',\n",
       "  57: 'Gaztambide',\n",
       "  58: 'Goya',\n",
       "  59: 'Guindalera',\n",
       "  60: 'Hellín',\n",
       "  61: 'Horcajo',\n",
       "  62: 'Ibiza',\n",
       "  63: 'Imperial',\n",
       "  64: 'Jerónimos',\n",
       "  65: 'Justicia - Chueca',\n",
       "  66: 'La Florida - El Plantío',\n",
       "  67: 'La Paz',\n",
       "  68: 'Las Tablas',\n",
       "  69: 'Legazpi',\n",
       "  70: 'Lista',\n",
       "  71: 'Los Cármenes',\n",
       "  72: 'Los Rosales',\n",
       "  73: 'Los Ángeles',\n",
       "  74: 'Lucero',\n",
       "  75: 'Marroquina',\n",
       "  76: 'Media Legua',\n",
       "  77: 'Mirasierra',\n",
       "  78: 'Montecarmelo',\n",
       "  79: 'Moscardó',\n",
       "  80: 'Niño Jesús',\n",
       "  81: 'Nueva España',\n",
       "  82: 'Nuevos Ministerios - Ríos Rosas',\n",
       "  83: 'Numancia',\n",
       "  84: 'Opañel',\n",
       "  85: 'Orcasitas',\n",
       "  86: 'Orcasur',\n",
       "  87: 'Pacífico',\n",
       "  88: 'Palacio',\n",
       "  89: 'Palomas',\n",
       "  90: 'Palomeras bajas',\n",
       "  91: 'Palomeras sureste',\n",
       "  92: 'Palos de Moguer',\n",
       "  93: 'Pau de Carabanchel',\n",
       "  94: 'Peñagrande',\n",
       "  95: 'Pilar',\n",
       "  96: 'Pinar del Rey',\n",
       "  97: 'Piovera - Conde Orgaz',\n",
       "  98: 'Portazgo',\n",
       "  99: 'Pradolongo',\n",
       "  100: 'Prosperidad',\n",
       "  101: 'Pueblo Nuevo',\n",
       "  102: 'Puerta bonita',\n",
       "  103: 'Puerta del Ángel',\n",
       "  104: 'Quintana',\n",
       "  105: 'Recoletos',\n",
       "  106: 'Rejas',\n",
       "  107: 'Rosas - Musas',\n",
       "  108: 'Salvador',\n",
       "  109: 'San Andrés',\n",
       "  110: 'San Cristóbal',\n",
       "  111: 'San Diego',\n",
       "  112: 'San Fermín',\n",
       "  113: 'San Isidro',\n",
       "  114: 'San Juan Bautista',\n",
       "  115: 'San Pascual',\n",
       "  116: 'Sanchinarro',\n",
       "  117: 'Santa Eugenia',\n",
       "  118: 'Simancas',\n",
       "  119: 'Sol',\n",
       "  120: 'Tetuán',\n",
       "  121: 'Timón',\n",
       "  122: 'Trafalgar',\n",
       "  123: 'Tres Olivos - Valverde',\n",
       "  124: 'Universidad - Malasaña',\n",
       "  125: 'Valdeacederas',\n",
       "  126: 'Valdebebas - Valdefuentes',\n",
       "  127: 'Valdebernardo - Valderribas',\n",
       "  128: 'Valdemarín',\n",
       "  129: 'Valdezarza',\n",
       "  130: 'Vallehermoso',\n",
       "  131: 'Ventas',\n",
       "  132: 'Vicálvaro',\n",
       "  133: 'Vinateros',\n",
       "  134: 'Virgen del Cortijo - Manoteras',\n",
       "  135: 'Vista Alegre',\n",
       "  136: 'Zofio',\n",
       "  137: 'Águilas'}}"
      ]
     },
     "execution_count": 22,
     "metadata": {},
     "output_type": "execute_result"
    }
   ],
   "source": [
    "encoded_to_label_mappings"
   ]
  },
  {
   "cell_type": "code",
   "execution_count": null,
   "metadata": {},
   "outputs": [],
   "source": [
    "# Extraer el mapping\n",
    "label_to_encoded = {label: encoder.transform([label])[0] for label in encoder.classes_}\n",
    "encoded_to_label = {encoder.transform([label])[0]: label for label in encoder.classes_}"
   ]
  },
  {
   "cell_type": "code",
   "execution_count": null,
   "metadata": {},
   "outputs": [
    {
     "data": {
      "text/html": [
       "<style>#sk-container-id-3 {color: black;background-color: white;}#sk-container-id-3 pre{padding: 0;}#sk-container-id-3 div.sk-toggleable {background-color: white;}#sk-container-id-3 label.sk-toggleable__label {cursor: pointer;display: block;width: 100%;margin-bottom: 0;padding: 0.3em;box-sizing: border-box;text-align: center;}#sk-container-id-3 label.sk-toggleable__label-arrow:before {content: \"▸\";float: left;margin-right: 0.25em;color: #696969;}#sk-container-id-3 label.sk-toggleable__label-arrow:hover:before {color: black;}#sk-container-id-3 div.sk-estimator:hover label.sk-toggleable__label-arrow:before {color: black;}#sk-container-id-3 div.sk-toggleable__content {max-height: 0;max-width: 0;overflow: hidden;text-align: left;background-color: #f0f8ff;}#sk-container-id-3 div.sk-toggleable__content pre {margin: 0.2em;color: black;border-radius: 0.25em;background-color: #f0f8ff;}#sk-container-id-3 input.sk-toggleable__control:checked~div.sk-toggleable__content {max-height: 200px;max-width: 100%;overflow: auto;}#sk-container-id-3 input.sk-toggleable__control:checked~label.sk-toggleable__label-arrow:before {content: \"▾\";}#sk-container-id-3 div.sk-estimator input.sk-toggleable__control:checked~label.sk-toggleable__label {background-color: #d4ebff;}#sk-container-id-3 div.sk-label input.sk-toggleable__control:checked~label.sk-toggleable__label {background-color: #d4ebff;}#sk-container-id-3 input.sk-hidden--visually {border: 0;clip: rect(1px 1px 1px 1px);clip: rect(1px, 1px, 1px, 1px);height: 1px;margin: -1px;overflow: hidden;padding: 0;position: absolute;width: 1px;}#sk-container-id-3 div.sk-estimator {font-family: monospace;background-color: #f0f8ff;border: 1px dotted black;border-radius: 0.25em;box-sizing: border-box;margin-bottom: 0.5em;}#sk-container-id-3 div.sk-estimator:hover {background-color: #d4ebff;}#sk-container-id-3 div.sk-parallel-item::after {content: \"\";width: 100%;border-bottom: 1px solid gray;flex-grow: 1;}#sk-container-id-3 div.sk-label:hover label.sk-toggleable__label {background-color: #d4ebff;}#sk-container-id-3 div.sk-serial::before {content: \"\";position: absolute;border-left: 1px solid gray;box-sizing: border-box;top: 0;bottom: 0;left: 50%;z-index: 0;}#sk-container-id-3 div.sk-serial {display: flex;flex-direction: column;align-items: center;background-color: white;padding-right: 0.2em;padding-left: 0.2em;position: relative;}#sk-container-id-3 div.sk-item {position: relative;z-index: 1;}#sk-container-id-3 div.sk-parallel {display: flex;align-items: stretch;justify-content: center;background-color: white;position: relative;}#sk-container-id-3 div.sk-item::before, #sk-container-id-3 div.sk-parallel-item::before {content: \"\";position: absolute;border-left: 1px solid gray;box-sizing: border-box;top: 0;bottom: 0;left: 50%;z-index: -1;}#sk-container-id-3 div.sk-parallel-item {display: flex;flex-direction: column;z-index: 1;position: relative;background-color: white;}#sk-container-id-3 div.sk-parallel-item:first-child::after {align-self: flex-end;width: 50%;}#sk-container-id-3 div.sk-parallel-item:last-child::after {align-self: flex-start;width: 50%;}#sk-container-id-3 div.sk-parallel-item:only-child::after {width: 0;}#sk-container-id-3 div.sk-dashed-wrapped {border: 1px dashed gray;margin: 0 0.4em 0.5em 0.4em;box-sizing: border-box;padding-bottom: 0.4em;background-color: white;}#sk-container-id-3 div.sk-label label {font-family: monospace;font-weight: bold;display: inline-block;line-height: 1.2em;}#sk-container-id-3 div.sk-label-container {text-align: center;}#sk-container-id-3 div.sk-container {/* jupyter's `normalize.less` sets `[hidden] { display: none; }` but bootstrap.min.css set `[hidden] { display: none !important; }` so we also need the `!important` here to be able to override the default hidden behavior on the sphinx rendered scikit-learn.org. See: https://github.com/scikit-learn/scikit-learn/issues/21755 */display: inline-block !important;position: relative;}#sk-container-id-3 div.sk-text-repr-fallback {display: none;}</style><div id=\"sk-container-id-3\" class=\"sk-top-container\"><div class=\"sk-text-repr-fallback\"><pre>GridSearchCV(cv=5, estimator=RandomForestRegressor(),\n",
       "             param_grid={&#x27;max_features&#x27;: [2, 4, 6, 8],\n",
       "                         &#x27;n_estimators&#x27;: [30, 50, 100]},\n",
       "             return_train_score=True, scoring=&#x27;neg_mean_squared_error&#x27;)</pre><b>In a Jupyter environment, please rerun this cell to show the HTML representation or trust the notebook. <br />On GitHub, the HTML representation is unable to render, please try loading this page with nbviewer.org.</b></div><div class=\"sk-container\" hidden><div class=\"sk-item sk-dashed-wrapped\"><div class=\"sk-label-container\"><div class=\"sk-label sk-toggleable\"><input class=\"sk-toggleable__control sk-hidden--visually\" id=\"sk-estimator-id-3\" type=\"checkbox\" ><label for=\"sk-estimator-id-3\" class=\"sk-toggleable__label sk-toggleable__label-arrow\">GridSearchCV</label><div class=\"sk-toggleable__content\"><pre>GridSearchCV(cv=5, estimator=RandomForestRegressor(),\n",
       "             param_grid={&#x27;max_features&#x27;: [2, 4, 6, 8],\n",
       "                         &#x27;n_estimators&#x27;: [30, 50, 100]},\n",
       "             return_train_score=True, scoring=&#x27;neg_mean_squared_error&#x27;)</pre></div></div></div><div class=\"sk-parallel\"><div class=\"sk-parallel-item\"><div class=\"sk-item\"><div class=\"sk-label-container\"><div class=\"sk-label sk-toggleable\"><input class=\"sk-toggleable__control sk-hidden--visually\" id=\"sk-estimator-id-4\" type=\"checkbox\" ><label for=\"sk-estimator-id-4\" class=\"sk-toggleable__label sk-toggleable__label-arrow\">estimator: RandomForestRegressor</label><div class=\"sk-toggleable__content\"><pre>RandomForestRegressor()</pre></div></div></div><div class=\"sk-serial\"><div class=\"sk-item\"><div class=\"sk-estimator sk-toggleable\"><input class=\"sk-toggleable__control sk-hidden--visually\" id=\"sk-estimator-id-5\" type=\"checkbox\" ><label for=\"sk-estimator-id-5\" class=\"sk-toggleable__label sk-toggleable__label-arrow\">RandomForestRegressor</label><div class=\"sk-toggleable__content\"><pre>RandomForestRegressor()</pre></div></div></div></div></div></div></div></div></div></div>"
      ],
      "text/plain": [
       "GridSearchCV(cv=5, estimator=RandomForestRegressor(),\n",
       "             param_grid={'max_features': [2, 4, 6, 8],\n",
       "                         'n_estimators': [30, 50, 100]},\n",
       "             return_train_score=True, scoring='neg_mean_squared_error')"
      ]
     },
     "execution_count": 24,
     "metadata": {},
     "output_type": "execute_result"
    }
   ],
   "source": [
    "# Hacer Gridsearch CV para buscar los mejores hyperparametros\n",
    "\n",
    "from sklearn.model_selection import GridSearchCV\n",
    "\n",
    "forest = RandomForestRegressor()\n",
    "\n",
    "param_grid = {\n",
    "    \"n_estimators\": [30, 50, 100],\n",
    "    \"max_features\": [2,4,6,8]\n",
    "}\n",
    "\n",
    "grid_search = GridSearchCV(forest, param_grid, cv=5,\n",
    "                            scoring = \"neg_mean_squared_error\",\n",
    "                            return_train_score=True)\n",
    "\n",
    "grid_search.fit(X_train , y_train)"
   ]
  },
  {
   "cell_type": "code",
   "execution_count": null,
   "metadata": {},
   "outputs": [
    {
     "data": {
      "text/html": [
       "<style>#sk-container-id-4 {color: black;background-color: white;}#sk-container-id-4 pre{padding: 0;}#sk-container-id-4 div.sk-toggleable {background-color: white;}#sk-container-id-4 label.sk-toggleable__label {cursor: pointer;display: block;width: 100%;margin-bottom: 0;padding: 0.3em;box-sizing: border-box;text-align: center;}#sk-container-id-4 label.sk-toggleable__label-arrow:before {content: \"▸\";float: left;margin-right: 0.25em;color: #696969;}#sk-container-id-4 label.sk-toggleable__label-arrow:hover:before {color: black;}#sk-container-id-4 div.sk-estimator:hover label.sk-toggleable__label-arrow:before {color: black;}#sk-container-id-4 div.sk-toggleable__content {max-height: 0;max-width: 0;overflow: hidden;text-align: left;background-color: #f0f8ff;}#sk-container-id-4 div.sk-toggleable__content pre {margin: 0.2em;color: black;border-radius: 0.25em;background-color: #f0f8ff;}#sk-container-id-4 input.sk-toggleable__control:checked~div.sk-toggleable__content {max-height: 200px;max-width: 100%;overflow: auto;}#sk-container-id-4 input.sk-toggleable__control:checked~label.sk-toggleable__label-arrow:before {content: \"▾\";}#sk-container-id-4 div.sk-estimator input.sk-toggleable__control:checked~label.sk-toggleable__label {background-color: #d4ebff;}#sk-container-id-4 div.sk-label input.sk-toggleable__control:checked~label.sk-toggleable__label {background-color: #d4ebff;}#sk-container-id-4 input.sk-hidden--visually {border: 0;clip: rect(1px 1px 1px 1px);clip: rect(1px, 1px, 1px, 1px);height: 1px;margin: -1px;overflow: hidden;padding: 0;position: absolute;width: 1px;}#sk-container-id-4 div.sk-estimator {font-family: monospace;background-color: #f0f8ff;border: 1px dotted black;border-radius: 0.25em;box-sizing: border-box;margin-bottom: 0.5em;}#sk-container-id-4 div.sk-estimator:hover {background-color: #d4ebff;}#sk-container-id-4 div.sk-parallel-item::after {content: \"\";width: 100%;border-bottom: 1px solid gray;flex-grow: 1;}#sk-container-id-4 div.sk-label:hover label.sk-toggleable__label {background-color: #d4ebff;}#sk-container-id-4 div.sk-serial::before {content: \"\";position: absolute;border-left: 1px solid gray;box-sizing: border-box;top: 0;bottom: 0;left: 50%;z-index: 0;}#sk-container-id-4 div.sk-serial {display: flex;flex-direction: column;align-items: center;background-color: white;padding-right: 0.2em;padding-left: 0.2em;position: relative;}#sk-container-id-4 div.sk-item {position: relative;z-index: 1;}#sk-container-id-4 div.sk-parallel {display: flex;align-items: stretch;justify-content: center;background-color: white;position: relative;}#sk-container-id-4 div.sk-item::before, #sk-container-id-4 div.sk-parallel-item::before {content: \"\";position: absolute;border-left: 1px solid gray;box-sizing: border-box;top: 0;bottom: 0;left: 50%;z-index: -1;}#sk-container-id-4 div.sk-parallel-item {display: flex;flex-direction: column;z-index: 1;position: relative;background-color: white;}#sk-container-id-4 div.sk-parallel-item:first-child::after {align-self: flex-end;width: 50%;}#sk-container-id-4 div.sk-parallel-item:last-child::after {align-self: flex-start;width: 50%;}#sk-container-id-4 div.sk-parallel-item:only-child::after {width: 0;}#sk-container-id-4 div.sk-dashed-wrapped {border: 1px dashed gray;margin: 0 0.4em 0.5em 0.4em;box-sizing: border-box;padding-bottom: 0.4em;background-color: white;}#sk-container-id-4 div.sk-label label {font-family: monospace;font-weight: bold;display: inline-block;line-height: 1.2em;}#sk-container-id-4 div.sk-label-container {text-align: center;}#sk-container-id-4 div.sk-container {/* jupyter's `normalize.less` sets `[hidden] { display: none; }` but bootstrap.min.css set `[hidden] { display: none !important; }` so we also need the `!important` here to be able to override the default hidden behavior on the sphinx rendered scikit-learn.org. See: https://github.com/scikit-learn/scikit-learn/issues/21755 */display: inline-block !important;position: relative;}#sk-container-id-4 div.sk-text-repr-fallback {display: none;}</style><div id=\"sk-container-id-4\" class=\"sk-top-container\"><div class=\"sk-text-repr-fallback\"><pre>RandomForestRegressor(max_features=2)</pre><b>In a Jupyter environment, please rerun this cell to show the HTML representation or trust the notebook. <br />On GitHub, the HTML representation is unable to render, please try loading this page with nbviewer.org.</b></div><div class=\"sk-container\" hidden><div class=\"sk-item\"><div class=\"sk-estimator sk-toggleable\"><input class=\"sk-toggleable__control sk-hidden--visually\" id=\"sk-estimator-id-6\" type=\"checkbox\" checked><label for=\"sk-estimator-id-6\" class=\"sk-toggleable__label sk-toggleable__label-arrow\">RandomForestRegressor</label><div class=\"sk-toggleable__content\"><pre>RandomForestRegressor(max_features=2)</pre></div></div></div></div></div>"
      ],
      "text/plain": [
       "RandomForestRegressor(max_features=2)"
      ]
     },
     "execution_count": 25,
     "metadata": {},
     "output_type": "execute_result"
    }
   ],
   "source": [
    "# Mostrar el best forest\n",
    "best_forest = grid_search.best_estimator_\n",
    "best_forest"
   ]
  },
  {
   "cell_type": "code",
   "execution_count": null,
   "metadata": {},
   "outputs": [
    {
     "data": {
      "text/plain": [
       "0.8087020931284717"
      ]
     },
     "execution_count": 26,
     "metadata": {},
     "output_type": "execute_result"
    }
   ],
   "source": [
    "# Revisar Score del best Forest\n",
    "best_forest.score(X_test , y_test)\n",
    "\n",
    "# Probar el RF Regressor con los hyperparametros del best forest, si el score mejora hay que dejar el best forest"
   ]
  },
  {
   "cell_type": "code",
   "execution_count": null,
   "metadata": {},
   "outputs": [
    {
     "data": {
      "text/plain": [
       "array([0.01785501, 0.13471919, 0.08718402, 0.07692126, 0.23951591,\n",
       "       0.40035218, 0.04345243])"
      ]
     },
     "execution_count": 27,
     "metadata": {},
     "output_type": "execute_result"
    }
   ],
   "source": [
    "# Revisar Feature Importances\n",
    "rf_regressor.feature_importances_"
   ]
  },
  {
   "cell_type": "code",
   "execution_count": null,
   "metadata": {},
   "outputs": [
    {
     "data": {
      "text/plain": [
       "Text(0.5, 0, 'Random Forest Feature Importance')"
      ]
     },
     "execution_count": 28,
     "metadata": {},
     "output_type": "execute_result"
    },
    {
     "data": {
      "image/png": "[encoded data removed]",
      "text/plain": [
       "<Figure size 1000x800 with 1 Axes>"
      ]
     },
     "metadata": {},
     "output_type": "display_data"
    }
   ],
   "source": [
    "# Graficar Feature Importances\n",
    "\n",
    "sorted_idx = rf_regressor.feature_importances_.argsort()\n",
    "plt.figure(figsize=(10, 8))\n",
    "plt.barh(X.columns[sorted_idx], rf_regressor.feature_importances_[sorted_idx])\n",
    "plt.xlabel(\"Random Forest Feature Importance\")"
   ]
  },
  {
   "cell_type": "markdown",
   "metadata": {},
   "source": [
    "# Proceder a hacer predicciones con nuestro modelo entrenado\n",
    "\n",
    "#### Tipos: \n",
    "       ['Piso', 'Ático', 'Dúplex', 'Apartamento']\n",
    "\n",
    "#### Distritos: \n",
    "       ['Arganzuela', 'Barajas', 'Carabanchel', 'Centro', 'Chamartín',\n",
    "       'Chamberí', 'Ciudad Lineal', 'Fuencarral', 'Hortaleza', 'Latina',\n",
    "       'Moncloa', 'Moratalaz', 'Puente de Vallecas', 'Retiro',\n",
    "       'Salamanca', 'San Blas', 'Tetuán', 'Usera', 'Vicálvaro',\n",
    "       'Villa de Vallecas', 'Villaverde']\n",
    "\n",
    "#### Barrios: \n",
    "       ['Palos de Moguer', 'Legazpi', 'Chopera', 'Delicias', 'Acacias',\n",
    "       'Imperial', 'Atocha', 'Corralejos - Campo de las Naciones',\n",
    "       'Alameda de Osuna', 'Casco Histórico de Barajas', 'Timón',\n",
    "       'Comillas', 'Pau de Carabanchel', 'Buenavista', 'San Isidro',\n",
    "       'Vista Alegre', 'Puerta bonita', 'Opañel', 'Abrantes', 'Centro',\n",
    "       'Pacífico', 'Embajadores - Lavapiés', 'Sol', 'Palacio',\n",
    "       'Justicia - Chueca', 'Universidad - Malasaña', 'Cortes - Huertas',\n",
    "       'El Viso', 'Ciudad Jardín', 'Castilla',\n",
    "       'Bernabéu - Hispanoamérica', 'Nueva España', 'Prosperidad',\n",
    "       'Chamartín', 'Almagro', 'Vallehermoso', 'Trafalgar', 'Arapiles',\n",
    "       'Gaztambide', 'Nuevos Ministerios - Ríos Rosas', 'Chamberí',\n",
    "       'Colina', 'Ventas', 'Costillares', 'Atalaya', 'Concepción',\n",
    "       'San Juan Bautista', 'Quintana', 'San Pascual', 'Pueblo Nuevo',\n",
    "       'Las Tablas', 'Montecarmelo', 'Mirasierra', 'La Paz', 'Peñagrande',\n",
    "       'Tres Olivos - Valverde', 'Pilar', 'Fuentelarreina', 'El Pardo',\n",
    "       'Palomas', 'Sanchinarro', 'Piovera - Conde Orgaz', 'Canillas',\n",
    "       'Pinar del Rey', 'Valdebebas - Valdefuentes',\n",
    "       'Virgen del Cortijo - Manoteras', 'Apóstol Santiago',\n",
    "       'Puerta del Ángel', 'Aluche', 'Lucero', 'Águilas', 'Campamento',\n",
    "       'Los Cármenes', 'Cuatro vientos', 'Argüelles', 'Aravaca',\n",
    "       'Ciudad Universitaria', 'Valdemarín', 'Valdezarza',\n",
    "       'Casa de Campo', 'La Florida - El Plantío', 'Media Legua',\n",
    "       'Vinateros', 'Horcajo', 'Marroquina', 'Fontarrón',\n",
    "       'Palomeras sureste', 'Numancia', 'San Diego', 'Entrevías',\n",
    "       'Portazgo', 'Palomeras bajas', 'Ibiza', 'Niño Jesús', 'Jerónimos',\n",
    "       'Estrella', 'Adelfas', 'Goya', 'Recoletos', 'Guindalera', 'Lista',\n",
    "       'Castellana', 'Fuente del Berro', 'Simancas', 'Rejas',\n",
    "       'Rosas - Musas', 'Salvador', 'Arcos', 'Hellín', 'Amposta',\n",
    "       'Canillejas', 'Cuatro Caminos', 'Castillejos', 'Valdeacederas',\n",
    "       'Almenara', 'Berruguete', 'Bellas Vistas', 'Tetuán', 'Orcasitas',\n",
    "       'Pradolongo', 'San Fermín', 'Almendrales', 'Orcasur', 'Moscardó',\n",
    "       'Zofio', 'Ambroz', 'El Cañaveral - Los Berrocales', 'Vicálvaro',\n",
    "       'Casco histórico de Vicálvaro', 'Valdebernardo - Valderribas',\n",
    "       'Ensanche de Vallecas - Valdecarros',\n",
    "       'Casco Histórico de Vallecas', 'Santa Eugenia', 'Los Ángeles',\n",
    "       'San Andrés', 'Butarque', 'Los Rosales', 'San Cristóbal']"
   ]
  },
  {
   "cell_type": "code",
   "execution_count": null,
   "metadata": {},
   "outputs": [
    {
     "name": "stdout",
     "output_type": "stream",
     "text": [
      "El precio de renta del inmueble a media-estancia es:  1808.77 € por mes\n"
     ]
    },
    {
     "name": "stderr",
     "output_type": "stream",
     "text": [
      "/Users/guillermobogran/Library/Python/3.11/lib/python/site-packages/sklearn/base.py:450: UserWarning: X does not have valid feature names, but RandomForestRegressor was fitted with feature names\n",
      "  warnings.warn(\n"
     ]
    }
   ],
   "source": [
    "# Ingresar parametros de solicitud para uso en la predicción | Esto es lo que el usuario ingresará en el sitio web\n",
    "solicitud = {\n",
    "    'Tipo': 'Piso',             # Ingresar un Tipo de vivienda = ['Piso', 'Ático', 'Dúplex', 'Apartamento']\n",
    "    'Distrito': 'Salamanca',    # Ingresar un Distrito de la Lista de Distritos\n",
    "    'Barrio': 'Recoletos',           # Ingresar un Barrio de la Lista de Barrios, que sea dentro del Distrito pertinente\n",
    "    'Habitaciones': 1,          # Ingresar Numero de Habitaciones\n",
    "    'Banos': 1,                 # Ingresar Numero de Baños\n",
    "    'Area': 50,                 # Ingresar Area en m2\n",
    "    'Furnished': 1,             # Ingresar 1 si es amueblado o 0 si no es amueblado\n",
    "}\n",
    "\n",
    "# Encode la solicitud usando el label encoder creado anteriormente\n",
    "for column in ['Tipo', 'Distrito', 'Barrio']:\n",
    "    solicitud[column] = label_encoders[column].transform([solicitud[column]])[0]\n",
    "\n",
    "# Predecir el precio de renta para el nuevo_listing\n",
    "predicted_price = rf_regressor.predict([list(solicitud.values())])[0]\n",
    "\n",
    "# Mostrar la prediccion de la vivienda \n",
    "print(\"El precio de renta del inmueble a media-estancia es: \" , predicted_price.round(2) , \"€ por mes\")"
   ]
  },
  {
   "cell_type": "code",
   "execution_count": 19,
   "metadata": {},
   "outputs": [],
   "source": [
    "diccionario_idealista_m2 = {\n",
    "    'Arganzuela': 17.2,\n",
    "    'Barajas': 13.6,\n",
    "    'Carabanchel': 13.7,\n",
    "    'Centro': 20.6,\n",
    "    'Chamartín': 18.1,\n",
    "    'Chamberí': 20.6,\n",
    "    'Ciudad Lineal': 15.4,\n",
    "    'Fuencarral': 14.1,\n",
    "    'Hortaleza': 14.5,\n",
    "    'Latina': 13.8,\n",
    "    'Moncloa': 17.1,\n",
    "    'Moratalaz': 12.7,\n",
    "    'Puente de Vallecas': 13.9,\n",
    "    'Retiro': 18.0,\n",
    "    'Salamanca': 21.8,\n",
    "    'San Blas': 13.3,\n",
    "    'Tetuán': 17.5,\n",
    "    'Usera': 13.8,\n",
    "    'Vicálvaro': 12.3,\n",
    "    'Villa de Vallecas': 12.7,\n",
    "    'Villaverde': 12.7\n",
    "}\n",
    "\n"
   ]
  },
  {
   "cell_type": "code",
   "execution_count": 25,
   "metadata": {},
   "outputs": [
    {
     "data": {
      "text/plain": [
       "1572.0"
      ]
     },
     "execution_count": 25,
     "metadata": {},
     "output_type": "execute_result"
    }
   ],
   "source": [
    "#funcion de fiabilidad para tres clases, alta media baja, con la tabla de idealista x barrio\n",
    "\n",
    "def fiabilidad_prueba_ponderada(alpha,prediccion,m2,distrito):\n",
    "    return ((((1-alpha)*(prediccion/m2) + alpha*diccionario_idealista_m2[distrito]))*m2 )\n",
    "\n",
    "fiabilidad_prueba_ponderada(0.5,1500,120,\"Carabanchel\")\n",
    "\n",
    "#no se puede poner directamente la fiabilidad de diana. \n",
    "# hay que ajustar con la ponderacion para dar mas pesos a idealista en fiabilidades altas y menos en bajas\n",
    "#una idea seria sustituir el alpha por la fiabilidad de diana y ajustarala para que cuando sea 1 solo considere esa y segun baja pesa mas \n",
    "# el idealista"
   ]
  },
  {
   "cell_type": "markdown",
   "metadata": {},
   "source": [
    "**Sugerencia para mejoras del modelo**\n",
    "\n",
    "1. AI hace una sugerencia, y nosotros hacemos la correcion.\n",
    "\n",
    "Por ejemplo, nuestras predicciones estan saliendo un poco muy elevadas. Entonces le podemos asignar peso a algunos features:\n",
    "\n",
    "* Barrio Caro : prediccion se mantiene\n",
    "    * Barrio Barato : prediccion se ajusta (menos)\n",
    "* Condicion : Nueva, Moderna - predicción se mantiene\n",
    "    * Condicion : Viejo, Antiguo - prediccion se ajusta (mas)\n",
    "\n",
    "Que otras pesos se podrian manipular por el cientifico de datos? Es decir modificar lo que la maquina ha aprendido - es supervisado al final.\n",
    "\n",
    "2. Normalizar los Datos previo al train"
   ]
  },
  {
   "cell_type": "markdown",
   "metadata": {},
   "source": []
  }
 ],
 "metadata": {
  "kernelspec": {
   "display_name": "Python 3",
   "language": "python",
   "name": "python3"
  },
  "language_info": {
   "codemirror_mode": {
    "name": "ipython",
    "version": 3
   },
   "file_extension": ".py",
   "mimetype": "text/x-python",
   "name": "python",
   "nbconvert_exporter": "python",
   "pygments_lexer": "ipython3",
   "version": "3.11.3"
  },
  "orig_nbformat": 4
 },
 "nbformat": 4,
 "nbformat_minor": 2
}
