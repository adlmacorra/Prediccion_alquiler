{
 "cells": [
  {
   "cell_type": "code",
   "execution_count": 20,
   "metadata": {},
   "outputs": [],
   "source": [
    "import pandas as pd\n",
    "from sklearn.compose import ColumnTransformer\n",
    "from sklearn.metrics import r2_score, mean_squared_error\n",
    "from sklearn.model_selection import train_test_split, GridSearchCV\n",
    "from sklearn.neighbors import KNeighborsRegressor\n",
    "from sklearn.pipeline import Pipeline\n",
    "from sklearn.preprocessing import StandardScaler, OneHotEncoder, PolynomialFeatures\n",
    "from sklearn.linear_model import LinearRegression\n",
    "import xgboost as xgb\n",
    "import numpy as np\n",
    "import keras\n",
    "import tensorflow\n",
    "from sklearn.ensemble import RandomForestRegressor\n",
    "import joblib\n"
   ]
  },
  {
   "cell_type": "code",
   "execution_count": 21,
   "metadata": {},
   "outputs": [],
   "source": [
    "dataframe = pd.read_csv(\"data/raw/houses_rent_info_nh.csv\")\n",
    "df = dataframe.copy()"
   ]
  },
  {
   "cell_type": "markdown",
   "metadata": {},
   "source": [
    "#### Para redondear los precios, funciona un poco mejor, si se quita no creo que suponga un problema"
   ]
  },
  {
   "cell_type": "code",
   "execution_count": 119,
   "metadata": {},
   "outputs": [],
   "source": [
    "df[\"Price\"] = df[\"Price\"].map(lambda x: round(x, -2))"
   ]
  },
  {
   "cell_type": "markdown",
   "metadata": {},
   "source": [
    "#### Renombramos las columnas, para que encaje con otra parte del proyecto"
   ]
  },
  {
   "cell_type": "code",
   "execution_count": 23,
   "metadata": {},
   "outputs": [],
   "source": [
    "df.rename(columns={\"Place\": \"Tipo\", \"Location\": \"Distrito\", \"NeighborHood\": \"Barrio\", \"Rooms\": \"Habitaciones\", \"Toilets\": \"Banos\"}, inplace=True)"
   ]
  },
  {
   "cell_type": "markdown",
   "metadata": {},
   "source": [
    "#### Dividimos en X, y - Train , Test"
   ]
  },
  {
   "cell_type": "code",
   "execution_count": 24,
   "metadata": {},
   "outputs": [],
   "source": [
    "X = df[['Tipo', 'Distrito', 'Barrio', 'Habitaciones', 'Banos', 'Area',\n",
    "       'Furnished']]\n",
    "y = df[\"Price\"]\n",
    "X_train, X_test, y_train, y_test = train_test_split(X, y, test_size=0.3, random_state=999)"
   ]
  },
  {
   "cell_type": "markdown",
   "metadata": {},
   "source": [
    "### Concatenamos para modificar solo el train"
   ]
  },
  {
   "cell_type": "code",
   "execution_count": 25,
   "metadata": {},
   "outputs": [],
   "source": [
    "x_train = pd.concat([X_train, y_train], axis=1)"
   ]
  },
  {
   "cell_type": "code",
   "execution_count": 26,
   "metadata": {},
   "outputs": [
    {
     "name": "stdout",
     "output_type": "stream",
     "text": [
      "Empty DataFrame\n",
      "Columns: [Tipo, Distrito, Barrio, Habitaciones, Banos, Area, Furnished, Price]\n",
      "Index: []\n"
     ]
    }
   ],
   "source": [
    "x_train.drop(x_train[x_train['Area'] == 1400].index, inplace = True)\n",
    "print(x_train[x_train.Area == 1400])"
   ]
  },
  {
   "cell_type": "code",
   "execution_count": 27,
   "metadata": {},
   "outputs": [],
   "source": [
    "#x_train.drop(x_train[x_train['Price'] >= 15000].index, inplace = True)\n",
    "# Al quitar este, o quitar más registros bajando el precio funciona peor."
   ]
  },
  {
   "cell_type": "markdown",
   "metadata": {},
   "source": [
    "### Volvemos a dividir X e Y"
   ]
  },
  {
   "cell_type": "code",
   "execution_count": 28,
   "metadata": {},
   "outputs": [],
   "source": [
    "X_train = x_train[['Tipo', 'Distrito', 'Barrio', \"Habitaciones\", 'Banos', 'Area',\n",
    "       'Furnished']]\n",
    "y_train = x_train[\"Price\"]"
   ]
  },
  {
   "cell_type": "markdown",
   "metadata": {},
   "source": [
    "#### Seleccionamos variables categóricas y numéricas"
   ]
  },
  {
   "cell_type": "code",
   "execution_count": 29,
   "metadata": {},
   "outputs": [],
   "source": [
    "one_hot_columns = [\"Tipo\", \"Distrito\", \"Barrio\"]\n",
    "numerical_columns = [\"Area\", \"Habitaciones\", \"Banos\"]"
   ]
  },
  {
   "cell_type": "markdown",
   "metadata": {},
   "source": [
    "## XgBoost"
   ]
  },
  {
   "cell_type": "code",
   "execution_count": 124,
   "metadata": {},
   "outputs": [
    {
     "name": "stdout",
     "output_type": "stream",
     "text": [
      "0.8130559777122198\n",
      "{'boost__learning_rate': 0.1, 'boost__max_depth': 6, 'boost__min_child_weight': 3, 'boost__n_estimators': 500}\n",
      "661.9916536579923\n",
      "2016     800\n",
      "5772    2500\n",
      "7250    3500\n",
      "1475    1000\n",
      "2521    2000\n",
      "        ... \n",
      "318     1400\n",
      "202     2300\n",
      "1904    1000\n",
      "1561    1000\n",
      "7108    1900\n",
      "Name: Price, Length: 2258, dtype: int64\n",
      "[ 800. 2700. 4100. ... 1000. 1000. 1500.]\n"
     ]
    }
   ],
   "source": [
    "ct = ColumnTransformer([\n",
    "        ('standard', StandardScaler(), numerical_columns),\n",
    "        ('onehot', OneHotEncoder(handle_unknown=\"ignore\"), one_hot_columns)\n",
    "    ], remainder='passthrough'\n",
    "    )\n",
    "\n",
    "pipeline = Pipeline([\n",
    "        ('column_transformer', ct),\n",
    "        ('boost', xgb.XGBRegressor())\n",
    "    ])\n",
    "\n",
    "param_grid = {\n",
    "    'boost__learning_rate': [0.1], # [0.01, 0.1, 0.2]\n",
    "    'boost__n_estimators': [500], # 400\n",
    "    'boost__max_depth': [6],\n",
    "    'boost__min_child_weight': [1, 2, 3], # [1, 2, 3]\n",
    "}\n",
    "\n",
    "xgBoost_pipe = GridSearchCV(pipeline, param_grid, cv=5, n_jobs=-1, refit=True)\n",
    "xgBoost_pipe.fit(X_train, y_train)\n",
    "y_predict = xgBoost_pipe.predict(X_test)\n",
    "y_predict = np.around(y_predict, -2) # Se redondean también las predicciones\n",
    "print(r2_score(y_test, y_predict))\n",
    "print(xgBoost_pipe.best_params_)\n",
    "print(np.sqrt(mean_squared_error(y_test, y_predict)))\n",
    "print(y_test)\n",
    "print(y_predict)\n",
    "#joblib.dump(xgBoost_pipe, 'xgboost_regressor.pkl')"
   ]
  },
  {
   "cell_type": "markdown",
   "metadata": {},
   "source": [
    "### Método para registrar valores (get_features), método para predicción (prediction)"
   ]
  },
  {
   "cell_type": "code",
   "execution_count": 119,
   "metadata": {},
   "outputs": [],
   "source": [
    "def get_features():\n",
    "\n",
    "    answers_afirmative = [\"Si\", \"si\", \"s\"]\n",
    "\n",
    "    localization = input(\"Introduce localización:   \")\n",
    "    neighborhood = input(\"Introduce la zona/barrio: \")\n",
    "    area = input(\"Introduce los metros cuadrados del inmueble: \")\n",
    "    toilets = input(\"Introduce los baños del inmueble:  \")\n",
    "    air_conditioning = input(\"Tiene aire acondicionado: (Si / No)\")\n",
    "    if air_conditioning in answers_afirmative:\n",
    "        air_conditioning = 1\n",
    "    else:\n",
    "        air_conditioning = 0\n",
    "    built_in_wardrobes = input(\"Tiene armarios empotrados? (Si / No)\")\n",
    "    if built_in_wardrobes in answers_afirmative:\n",
    "        built_in_wardrobes = 1\n",
    "    else:\n",
    "        built_in_wardrobes = 0\n",
    "    elevator = input(\"Tiene ascensor? (Si / No)\")\n",
    "    if elevator in answers_afirmative:\n",
    "        elevator = 1\n",
    "    else:\n",
    "        elevator = 0\n",
    "    heating = input(\"Tiene calefacción? (Si / No)\")\n",
    "    if heating in answers_afirmative:\n",
    "        heating = 1\n",
    "    else:\n",
    "        heating = 0\n",
    "    garage = input(\"Tiene garaje? (Si / No)\")\n",
    "    if garage in answers_afirmative:\n",
    "        garage = 1\n",
    "    else:\n",
    "        garage = 0\n",
    "    terrace = input(\"Tiene terraza? (Si / No)\")\n",
    "    if terrace in answers_afirmative:\n",
    "        terrace = 1\n",
    "    else:\n",
    "        terrace = 0\n",
    "    furnished = input(\"Está amueblado? (Si / No)\")\n",
    "    if furnished in answers_afirmative:\n",
    "        furnished = 1\n",
    "    else:\n",
    "        furnished = 0\n",
    "    balcony = input(\"Tiene balcón? (Si / No)\")\n",
    "    if balcony in answers_afirmative:\n",
    "        balcony = 1\n",
    "    else:\n",
    "        balcony = 0\n",
    "    garden = input(\"Tiene jardín? (Si / No)\")\n",
    "    if garden in answers_afirmative:\n",
    "        garden = 1\n",
    "    else:\n",
    "        garden = 0\n",
    "    pool = input(\"Tiene piscina? (Si / No)\")\n",
    "    if pool in answers_afirmative:\n",
    "        pool = 1\n",
    "    else:\n",
    "        pool = 0\n",
    "\n",
    "    features = {\"Location\": localization,\n",
    "        \"NeighborHood\": neighborhood,\n",
    "        \"Area\": area,\n",
    "        \"Toilets\": toilets,\n",
    "        \"Air Conditioning\": air_conditioning,\n",
    "        \"Built-in Wardrobes\": built_in_wardrobes,\n",
    "        \"Elevator\": elevator,\n",
    "        \"Heating\": heating,\n",
    "        \"Garage\": garage,\n",
    "        \"Terrace\": terrace,\n",
    "        \"Furnished\": furnished,\n",
    "        \"Balcony\": balcony,\n",
    "        \"Garden\": garden,\n",
    "        \"Pool\": pool\n",
    "        }\n",
    "    \n",
    "    ls = []\n",
    "    ls.append(features)\n",
    "    return ls\n",
    "    \n",
    "def prediction(ls):\n",
    "    data = pd.DataFrame(ls)\n",
    "    prediction = xgBoost_pipe.predict(data)\n",
    "    house_price_prediction = np.around(prediction, -2)\n",
    "    print(\"Predicción del precio del inmueble: {} euros\".format(int(house_price_prediction[0])))"
   ]
  },
  {
   "cell_type": "code",
   "execution_count": 194,
   "metadata": {},
   "outputs": [
    {
     "name": "stdout",
     "output_type": "stream",
     "text": [
      "Localizacion: Arganzuela --> 1026\n",
      "Localizacion: Barajas --> 22\n",
      "Localizacion: Carabanchel --> 1187\n",
      "Localizacion: Centro --> 1050\n",
      "Localizacion: Chamartín --> 479\n",
      "Localizacion: Chamberí --> 632\n",
      "Localizacion: Ciudad Lineal --> 137\n",
      "Localizacion: Fuencarral --> 127\n",
      "Localizacion: Hortaleza --> 220\n",
      "Localizacion: Latina --> 62\n",
      "Localizacion: Moncloa --> 212\n",
      "Localizacion: Moratalaz --> 16\n",
      "Localizacion: Puente de Vallecas --> 63\n",
      "Localizacion: Retiro --> 315\n",
      "Localizacion: Salamanca --> 1185\n",
      "Localizacion: San Blas --> 76\n",
      "Localizacion: Tetuán --> 493\n",
      "Localizacion: Usera --> 57\n",
      "Localizacion: Vicálvaro --> 38\n",
      "Localizacion: Villa de Vallecas --> 40\n",
      "Localizacion: Villaverde --> 87\n"
     ]
    }
   ],
   "source": [
    "for i in df.Location.unique():\n",
    "    print(\"Localizacion: {} --> {}\".format(i,len(df[df[\"Location\"] == i])))\n"
   ]
  },
  {
   "cell_type": "markdown",
   "metadata": {},
   "source": [
    "#### Método de fiabilidad según el número de registros en el dataset"
   ]
  },
  {
   "cell_type": "code",
   "execution_count": 151,
   "metadata": {},
   "outputs": [],
   "source": [
    "def fiability(location):\n",
    "    number = len(df[df[\"Location\"] == location])\n",
    "    if number >= 1000:\n",
    "        print(\"Fiabilidad Alta\")\n",
    "    elif 400 < number < 1000:\n",
    "        print(\"Fiabilidad Media\")\n",
    "    elif number < 400:\n",
    "        print(\"Fiabilidad Baja\")\n"
   ]
  },
  {
   "cell_type": "markdown",
   "metadata": {},
   "source": []
  },
  {
   "cell_type": "markdown",
   "metadata": {},
   "source": [
    "#### Ejecutar la siguiente celda para meter datos de inmueble y comprobar fiabilidad del modelo"
   ]
  },
  {
   "cell_type": "code",
   "execution_count": 196,
   "metadata": {},
   "outputs": [
    {
     "name": "stdout",
     "output_type": "stream",
     "text": [
      "Predicción del precio del inmueble: 1500 euros\n",
      "Fiabilidad Baja\n"
     ]
    }
   ],
   "source": [
    "house = get_features()\n",
    "prediction(house)\n",
    "fiability(house[0][\"Location\"])\n"
   ]
  },
  {
   "cell_type": "markdown",
   "metadata": {},
   "source": [
    "#### Primera prueba fuera del Test"
   ]
  },
  {
   "cell_type": "code",
   "execution_count": 264,
   "metadata": {},
   "outputs": [
    {
     "name": "stdout",
     "output_type": "stream",
     "text": [
      "600\n"
     ]
    }
   ],
   "source": [
    "dicc = {\"Location\": [\"Puente de Vallecas\"],\n",
    "        \"NeighborHood\": [\"Numancia\"],\n",
    "        \"Area\": [30],\n",
    "        \"Toilets\": [1],\n",
    "        \"Air Conditioning\": [1],\n",
    "        \"Built-in Wardrobes\": [1],\n",
    "        \"Elevator\": [0],\n",
    "        \"Heating\": [1],\n",
    "        \"Garage\": [0],\n",
    "        \"Terrace\": [0],\n",
    "        \"Furnished\": [1],\n",
    "        \"Balcony\": [0],\n",
    "        \"Garden\": [0],\n",
    "        \"Pool\": [0]\n",
    "        }\n",
    "l = []\n",
    "l.append(dicc)\n",
    "d = pd.DataFrame.from_dict(dicc)\n",
    "y_predict = xgBoost_pipe.predict(d)\n",
    "y_predict = np.around(y_predict, -2)\n",
    "print(int(y_predict[0]))\n"
   ]
  },
  {
   "cell_type": "markdown",
   "metadata": {},
   "source": [
    "## RandomForestRegressor"
   ]
  },
  {
   "cell_type": "code",
   "execution_count": 190,
   "metadata": {},
   "outputs": [
    {
     "name": "stdout",
     "output_type": "stream",
     "text": [
      "0.8151038925825113\n",
      "{'forest__max_depth': 30, 'forest__max_features': 'sqrt', 'forest__min_samples_leaf': 1, 'forest__min_samples_split': 2, 'forest__n_estimators': 600}\n",
      "658.3557100239726\n",
      "2016     800\n",
      "5772    2500\n",
      "7250    3500\n",
      "1475    1000\n",
      "2521    2000\n",
      "        ... \n",
      "318     1400\n",
      "202     2300\n",
      "1904    1000\n",
      "1561    1000\n",
      "7108    1900\n",
      "Name: Price, Length: 2258, dtype: int64\n",
      "[ 800. 2800. 3400. ... 1000. 1000. 1800.]\n"
     ]
    }
   ],
   "source": [
    "ct = ColumnTransformer([\n",
    "        ('onehot', OneHotEncoder(handle_unknown=\"ignore\"), one_hot_columns)\n",
    "                       ], remainder='passthrough'\n",
    "                          )\n",
    "\n",
    "pipeline = Pipeline([\n",
    "        ('column_transformer', ct),\n",
    "        ('forest', RandomForestRegressor())\n",
    "                        ])\n",
    "\n",
    "param_grid = {\n",
    "    'forest__n_estimators': [600],\n",
    "    'forest__max_depth': [30],\n",
    "    'forest__min_samples_split': [2],\n",
    "    'forest__min_samples_leaf': [1],\n",
    "    'forest__max_features': ['sqrt'],\n",
    "}\n",
    "\n",
    "grid_pipeline = GridSearchCV(pipeline, param_grid, cv=5, n_jobs=-1, refit=True)\n",
    "grid_pipeline.fit(X_train, y_train)\n",
    "y_predict = grid_pipeline.predict(X_test)\n",
    "\"\"\"\n",
    "best_forest_model = grid_pipeline.best_estimator_.named_steps['forest']\n",
    "importances = best_forest_model.feature_importances_\n",
    "one_hot_encoder = grid_pipeline.best_estimator_.named_steps['column_transformer'].named_transformers_['onehot']\n",
    "one_hot_feature_names = one_hot_encoder.get_feature_names_out(input_features=one_hot_columns)\n",
    "column_names = list(one_hot_feature_names) + list(X_train.columns.difference(one_hot_columns))\n",
    "importance_df = pd.DataFrame({'Feature': column_names, 'Importance': importances})\n",
    "importance_df = importance_df.sort_values(by='Importance', ascending=False)\n",
    "print(importance_df)\n",
    "\"\"\"\n",
    "y_predict = np.around(y_predict, -2)\n",
    "print(r2_score(y_test, y_predict))\n",
    "print(grid_pipeline.best_params_)\n",
    "print(np.sqrt(mean_squared_error(y_test, y_predict)))\n",
    "print(y_test)\n",
    "print(y_predict)"
   ]
  }
 ],
 "metadata": {
  "kernelspec": {
   "display_name": "Python 3",
   "language": "python",
   "name": "python3"
  },
  "language_info": {
   "codemirror_mode": {
    "name": "ipython",
    "version": 3
   },
   "file_extension": ".py",
   "mimetype": "text/x-python",
   "name": "python",
   "nbconvert_exporter": "python",
   "pygments_lexer": "ipython3",
   "version": "3.11.3"
  }
 },
 "nbformat": 4,
 "nbformat_minor": 2
}
